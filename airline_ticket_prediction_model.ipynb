{
  "nbformat": 4,
  "nbformat_minor": 0,
  "metadata": {
    "colab": {
      "private_outputs": true,
      "provenance": [],
      "gpuType": "T4",
      "authorship_tag": "ABX9TyM69Rqq1NiBqlN6OYBgrIg0",
      "include_colab_link": true
    },
    "kernelspec": {
      "name": "python3",
      "display_name": "Python 3"
    },
    "language_info": {
      "name": "python"
    },
    "accelerator": "GPU"
  },
  "cells": [
    {
      "cell_type": "markdown",
      "metadata": {
        "id": "view-in-github",
        "colab_type": "text"
      },
      "source": [
        "<a href=\"https://colab.research.google.com/github/Sardorxonkeldiyev/ClassificationModel/blob/main/airline_ticket_prediction_model.ipynb\" target=\"_parent\"><img src=\"https://colab.research.google.com/assets/colab-badge.svg\" alt=\"Open In Colab\"/></a>"
      ]
    },
    {
      "cell_type": "code",
      "execution_count": null,
      "metadata": {
        "id": "H-aFSTz3geRn"
      },
      "outputs": [],
      "source": [
        "import pandas as pd\n",
        "import numpy as np\n",
        "import matplotlib.pyplot as plt\n",
        "import seaborn as sns\n",
        "from sklearn.linear_model import LinearRegression\n",
        "from sklearn.ensemble import RandomForestRegressor\n",
        "from sklearn.preprocessing import StandardScaler\n",
        "from sklearn.preprocessing import LabelEncoder\n",
        "from sklearn.metrics import mean_squared_error, mean_absolute_error"
      ]
    },
    {
      "cell_type": "code",
      "source": [
        "# datasets:\n",
        "test =pd.read_csv('/content/test_data.csv', index_col='id')\n",
        "train = pd.read_csv('/content/train_data.csv',index_col='id')\n",
        "sample = pd.read_csv(\"/content/sample_solution.csv\")\n",
        "train.head()"
      ],
      "metadata": {
        "id": "MzvMY7ISgkwb"
      },
      "execution_count": null,
      "outputs": []
    },
    {
      "cell_type": "code",
      "source": [
        "train.info()"
      ],
      "metadata": {
        "id": "pWCb8jpngpEc"
      },
      "execution_count": null,
      "outputs": []
    },
    {
      "cell_type": "code",
      "source": [
        "# histogram: 1\n",
        "%matplotlib inline\n",
        "train.hist(bins=50,figsize=(20,15))\n",
        "plt.show()"
      ],
      "metadata": {
        "id": "SNgr35pchndQ"
      },
      "execution_count": null,
      "outputs": []
    },
    {
      "cell_type": "code",
      "source": [
        "train[['price']]"
      ],
      "metadata": {
        "id": "mm7D7Gojhsko"
      },
      "execution_count": null,
      "outputs": []
    },
    {
      "cell_type": "code",
      "source": [
        "# histogram: 2\n",
        "plt.figure(figsize=(10,6))\n",
        "\n",
        "sns.scatterplot(data=train,x=train[\"duration\"],y=train['price'])\n",
        "plt.show()"
      ],
      "metadata": {
        "id": "kQcqkSaghyXZ"
      },
      "execution_count": null,
      "outputs": []
    },
    {
      "cell_type": "code",
      "source": [
        "train.head()"
      ],
      "metadata": {
        "id": "mDouecJfnNP_"
      },
      "execution_count": null,
      "outputs": []
    },
    {
      "cell_type": "code",
      "source": [],
      "metadata": {
        "id": "UXVihlImiC_j"
      },
      "execution_count": null,
      "outputs": []
    },
    {
      "cell_type": "code",
      "source": [
        "train.corrwith(train['price'], numeric_only=True).sort_values(ascending=False)"
      ],
      "metadata": {
        "id": "GxTy26owjGbN"
      },
      "execution_count": null,
      "outputs": []
    },
    {
      "cell_type": "code",
      "source": [
        "X = train.drop('price', axis=1)\n",
        "y =np.asanyarray(train[['price']])"
      ],
      "metadata": {
        "id": "r538IdtWjqNV"
      },
      "execution_count": null,
      "outputs": []
    },
    {
      "cell_type": "code",
      "source": [
        "# histogram: 3\n",
        "plt.figure(figsize=(12,6))\n",
        "sns.lineplot(data= train, x=train['duration'].index,y=train['price'])\n",
        "plt.grid()\n",
        "plt.show()\n"
      ],
      "metadata": {
        "id": "dEJ8MATN1nGx"
      },
      "execution_count": null,
      "outputs": []
    },
    {
      "cell_type": "code",
      "source": [
        "plt.figure(figsize=(10,4))\n",
        "sns.scatterplot(data=train,x=train['duration'], y=train['price'], hue='stops')\n",
        "plt.legend()\n",
        "plt.show()"
      ],
      "metadata": {
        "id": "BxxGADlG5uYg"
      },
      "execution_count": null,
      "outputs": []
    },
    {
      "cell_type": "code",
      "source": [
        "X_cat = train.drop(train[[ 'days_left', 'price', 'flight']], axis=1)\n",
        "X_num = train[['days_left']]\n",
        "X_cat.head()"
      ],
      "metadata": {
        "id": "cbbTjiNXkE34"
      },
      "execution_count": null,
      "outputs": []
    },
    {
      "cell_type": "code",
      "source": [
        "from sklearn.pipeline import Pipeline\n",
        "from sklearn.preprocessing import OneHotEncoder, StandardScaler\n",
        "from sklearn.compose import ColumnTransformer\n",
        "\n",
        "num_pipeline = Pipeline([('std_scaler', StandardScaler())])\n",
        "\n",
        "num_attribs = list(X_num)\n",
        "text_attribs = list(X_cat)\n",
        "\n",
        "full_pip = ColumnTransformer([\n",
        "    ('num', num_pipeline, num_attribs),\n",
        "    ('text', OneHotEncoder(), text_attribs)\n",
        "])\n",
        "\n",
        "x_pipline= full_pip.fit_transform(X)"
      ],
      "metadata": {
        "id": "bjlrbO8zkKyc"
      },
      "execution_count": null,
      "outputs": []
    },
    {
      "cell_type": "markdown",
      "source": [
        "# We use Simple Linear Regression:\n"
      ],
      "metadata": {
        "id": "I72jt2OJq1EU"
      }
    },
    {
      "cell_type": "code",
      "source": [
        "from sklearn.linear_model import LinearRegression\n",
        "LR_model = LinearRegression()\n",
        "\n",
        "LR_model.fit(x_pipline, y)"
      ],
      "metadata": {
        "id": "COmTgkX4kdXv"
      },
      "execution_count": null,
      "outputs": []
    },
    {
      "cell_type": "markdown",
      "source": [
        "## Let's check the model: MAE and RMSE"
      ],
      "metadata": {
        "id": "29ozlGvyq-du"
      }
    },
    {
      "cell_type": "code",
      "source": [
        "predict =LR_model.predict(x_pipline)\n",
        "from sklearn.metrics import mean_absolute_error, mean_squared_error\n",
        "rmse = np.sqrt(mean_squared_error(y,predict))\n",
        "mae = mean_absolute_error(y,predict)\n",
        "print(f'MAE: {mae}')\n",
        "print(f\"MSE: {rmse}\")\n",
        "\n"
      ],
      "metadata": {
        "id": "7zP6cAbnk5xV"
      },
      "execution_count": null,
      "outputs": []
    },
    {
      "cell_type": "markdown",
      "source": [
        "## Let's check the model : Random Forest"
      ],
      "metadata": {
        "id": "hUCzEAf2tRNR"
      }
    },
    {
      "cell_type": "code",
      "source": [
        "RF_model = RandomForestRegressor()\n",
        "RF_model.fit(x_pipline, y)"
      ],
      "metadata": {
        "id": "qLMlBOuRlMz5"
      },
      "execution_count": null,
      "outputs": []
    },
    {
      "cell_type": "code",
      "source": [
        "rf_predict=RF_model.predict(x_pipline)\n",
        "rf_predict\n",
        "mae = mean_absolute_error(rf_predict,y)\n",
        "rmse = np.sqrt(mean_squared_error(y,rf_predict))\n",
        "print(f\"MAE: {mae}\")\n",
        "print(f\"RMSE: {rmse}\")"
      ],
      "metadata": {
        "id": "YO_Msx1zrPkY"
      },
      "execution_count": null,
      "outputs": []
    },
    {
      "cell_type": "code",
      "source": [
        "y_prediction = pd.DataFrame(rf_predict)\n",
        "y_prediction\n",
        "\n"
      ],
      "metadata": {
        "id": "TfG2Fms8rx9b"
      },
      "execution_count": null,
      "outputs": []
    },
    {
      "cell_type": "code",
      "source": [
        "y_prediction.to_csv(\"predicted_aviaticket_price.csv\")"
      ],
      "metadata": {
        "id": "2SxcZdxzt5Fp"
      },
      "execution_count": null,
      "outputs": []
    },
    {
      "cell_type": "code",
      "source": [],
      "metadata": {
        "id": "hA0J-dfD_tFS"
      },
      "execution_count": null,
      "outputs": []
    }
  ]
}
